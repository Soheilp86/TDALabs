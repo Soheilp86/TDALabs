{
 "cells": [
  {
   "cell_type": "markdown",
   "metadata": {},
   "source": [
    "# Wasserstein And Bottleneck\n",
    "\n",
    "In this module, we will explore the Wasserstein and Bottleneck distance between persistence diagrams, and we will empirically explore their stability.\n",
    "\n",
    "First, we do all of the necessary imports\n"
   ]
  },
  {
   "cell_type": "code",
   "execution_count": null,
   "metadata": {},
   "outputs": [],
   "source": [
    "#Do all of the imports and setup inline plotting\n",
    "import time\n",
    "import numpy as np\n",
    "from scipy import sparse\n",
    "from ripser import ripser\n",
    "import cechmate as cm\n",
    "from persim import plot_diagrams\n",
    "from persim import wasserstein, wasserstein_matching\n",
    "from persim import bottleneck, bottleneck_matching\n",
    "\n",
    "%matplotlib notebook\n",
    "import matplotlib.pyplot as plt\n",
    "import ipywidgets as widgets\n",
    "from IPython.display import display\n",
    "\n",
    "import warnings\n",
    "warnings.filterwarnings('ignore')"
   ]
  },
  {
   "cell_type": "markdown",
   "metadata": {},
   "source": [
    "## Example 1: Noisy Circle Matching\n",
    "\n",
    "Let's first do a simple example of matching the H1 persistence diagram for points sampled from a circle to the H1 diagram from a noisy version of that circle.  We'll use the alpha filtration to get our persistence diagrams since we are in such a low dimension.\n",
    "\n",
    "#### Questions\n",
    "* What happens when you increase the noise?  Is there an amount of noise where the bottleneck point gets matched to a different point than the same point in the Wasserstein matching?"
   ]
  },
  {
   "cell_type": "code",
   "execution_count": null,
   "metadata": {},
   "outputs": [],
   "source": [
    "# First, sample points from a circle\n",
    "\n",
    "# First point cloud has no noise\n",
    "N1 = 300\n",
    "X1 = np.zeros((N1, 2))\n",
    "t1 = np.linspace(0, 2*np.pi, N1+1)[0:N1]\n",
    "X1[:, 0] = np.cos(t1)\n",
    "X1[:, 1] = np.sin(t1)\n",
    "\n",
    "# Second point cloud has a lot of noisy points\n",
    "N2 = 300\n",
    "t2 = np.linspace(0, 2*np.pi, N2+1)[0:N2]\n",
    "X2 = np.zeros((N2, 2))\n",
    "X2[:, 0] = np.cos(t2)\n",
    "X2[:, 1] = np.sin(t2)\n",
    "X2 = X2 + 0.25*np.random.randn(N2, 2)\n",
    "\n",
    "alpha = cm.Alpha()\n",
    "filtration = alpha.build(X1)\n",
    "I1 = alpha.diagrams(filtration)[1]\n",
    "filtration = alpha.build(X2)\n",
    "I2 = alpha.diagrams(filtration)[1]\n",
    "\n",
    "# Perform the matchings\n",
    "tic = time.time()\n",
    "bdist, (matchidxb, bD) = bottleneck(I1, I2, matching=True)\n",
    "wdist, (matchidxw, wD) = wasserstein(I1, I2, matching=True)\n",
    "print(\"Elapsed Time Matching: %.3g\"%(time.time()-tic))\n",
    "\n",
    "plt.figure(figsize=(12, 4))\n",
    "plt.subplot(131)\n",
    "plt.scatter(X2[:, 0], X2[:, 1])\n",
    "plt.scatter(X1[:, 0], X1[:, 1])\n",
    "plt.subplot(132)\n",
    "bottleneck_matching(I1, I2, matchidxb, bD)\n",
    "plt.title(\"Bottleneck Dist: %.3g\"%bdist)\n",
    "plt.subplot(133)\n",
    "wasserstein_matching(I1, I2, matchidxw)\n",
    "plt.title(\"Wasserstein Dist: %.3g\"%wdist)\n",
    "plt.show()"
   ]
  },
  {
   "cell_type": "markdown",
   "metadata": {},
   "source": [
    "## Example 2: Stability of Noisy Sublevelset Filtration\n",
    "\n",
    "We will now explore a different example of a <i>sublevelset filtration</i> or a ''lower star filtration'' of a 1D time series, compared to the lower star filtration of a time series with some noise added.\n",
    "\n",
    "First, we define a sparse distance matrix which represents the lower star filtration\n"
   ]
  },
  {
   "cell_type": "code",
   "execution_count": null,
   "metadata": {},
   "outputs": [],
   "source": [
    "def getLowerStarTimeSeriesD(x):\n",
    "    N = x.size\n",
    "    # Add edges between adjacent points in the time series, with the \"distance\" \n",
    "    # along the edge equal to the max value of the points it connects\n",
    "    I = np.arange(N-1)\n",
    "    J = np.arange(1, N)\n",
    "    V = np.maximum(x[0:-1], x[1::])\n",
    "    # Add vertex birth times along the diagonal of the distance matrix\n",
    "    I = np.concatenate((I, np.arange(N)))\n",
    "    J = np.concatenate((J, np.arange(N)))\n",
    "    V = np.concatenate((V, x))\n",
    "    #Create the sparse distance matrix\n",
    "    D = sparse.coo_matrix((V, (I, J)), shape=(N, N)).tocsr()\n",
    "    return D"
   ]
  },
  {
   "cell_type": "markdown",
   "metadata": {},
   "source": [
    "Now, we can perfor sublevelset filtrations on a time series by itself and with a small amount of noise added\n",
    "\n",
    "#### Exercise / Question\n",
    "\n",
    "* In the example below, increase the number of samples, while keeping the standard deviation of the noise fixed.  Does one of the distances seem more stable than the other?  Can you explain in this instance why?"
   ]
  },
  {
   "cell_type": "code",
   "execution_count": null,
   "metadata": {},
   "outputs": [],
   "source": [
    "NSamples = 2000\n",
    "t = np.linspace(0, 5, NSamples)\n",
    "x = np.cos(2*np.pi*t) + t\n",
    "y = x + 0.2*np.random.randn(NSamples)\n",
    "\n",
    "Dx = getLowerStarTimeSeriesD(x)\n",
    "Dy = getLowerStarTimeSeriesD(y)\n",
    "Ix = ripser(Dx, distance_matrix=True, maxdim=0)['dgms'][0]\n",
    "Iy = ripser(Dy, distance_matrix=True, maxdim=0)['dgms'][0]\n",
    "\n",
    "\n",
    "plt.figure(figsize=(8, 4))\n",
    "plt.subplot(121)\n",
    "plt.plot(x)\n",
    "plt.plot(y)\n",
    "plt.subplot(122)\n",
    "plot_diagrams([Ix, Iy], labels = ['H0 Original', 'H0 Noisy'])\n",
    "\n",
    "#Remove point at infinity before bottleneck/wasserstein\n",
    "Ix = Ix[np.isfinite(Ix[:, 1]), :]\n",
    "Iy = Iy[np.isfinite(Iy[:, 1]), :]\n",
    "\n",
    "tic = time.time()\n",
    "dw = wasserstein(Ix, Iy)\n",
    "print(\"Elapsed time Wasserstein: %.3g\"%(time.time()-tic))\n",
    "tic = time.time()\n",
    "db = bottleneck(Ix, Iy)\n",
    "print(\"Elapsed time Bottleneck: %.3g\"%(time.time()-tic))\n",
    "plt.title(\"Wasserstein = %.3g, Bottleneck=%.3g\"%(dw, db))\n",
    "plt.show()"
   ]
  },
  {
   "cell_type": "code",
   "execution_count": null,
   "metadata": {},
   "outputs": [],
   "source": []
  }
 ],
 "metadata": {
  "kernelspec": {
   "display_name": "Python 3",
   "language": "python",
   "name": "python3"
  },
  "language_info": {
   "codemirror_mode": {
    "name": "ipython",
    "version": 3
   },
   "file_extension": ".py",
   "mimetype": "text/x-python",
   "name": "python",
   "nbconvert_exporter": "python",
   "pygments_lexer": "ipython3",
   "version": "3.7.6"
  }
 },
 "nbformat": 4,
 "nbformat_minor": 2
}
